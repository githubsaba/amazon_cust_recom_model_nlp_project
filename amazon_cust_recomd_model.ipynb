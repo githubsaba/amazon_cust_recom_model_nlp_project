{
 "cells": [
  {
   "cell_type": "code",
   "execution_count": 2,
   "id": "16612492",
   "metadata": {},
   "outputs": [],
   "source": [
    "import pandas as pd\n",
    "import numpy as np\n",
    "import warnings\n",
    "warnings.filterwarnings('ignore')"
   ]
  },
  {
   "cell_type": "code",
   "execution_count": 5,
   "id": "8181c43e",
   "metadata": {},
   "outputs": [],
   "source": [
    "df = pd.read_excel(r\"F:\\data_science(omkar_sir_batch)\\Datasets\\final_data.xlsx\")"
   ]
  },
  {
   "cell_type": "code",
   "execution_count": 7,
   "id": "482159e6",
   "metadata": {},
   "outputs": [
    {
     "data": {
      "text/html": [
       "<div>\n",
       "<style scoped>\n",
       "    .dataframe tbody tr th:only-of-type {\n",
       "        vertical-align: middle;\n",
       "    }\n",
       "\n",
       "    .dataframe tbody tr th {\n",
       "        vertical-align: top;\n",
       "    }\n",
       "\n",
       "    .dataframe thead th {\n",
       "        text-align: right;\n",
       "    }\n",
       "</style>\n",
       "<table border=\"1\" class=\"dataframe\">\n",
       "  <thead>\n",
       "    <tr style=\"text-align: right;\">\n",
       "      <th></th>\n",
       "      <th>party_cntct_nmbr</th>\n",
       "      <th>party_full_nm</th>\n",
       "      <th>material_sk</th>\n",
       "      <th>itm_qty</th>\n",
       "      <th>unit_slng_prc_amt</th>\n",
       "      <th>dscnt_amt</th>\n",
       "      <th>net_sale_amt</th>\n",
       "      <th>txn_strt_dt</th>\n",
       "      <th>Product Name</th>\n",
       "    </tr>\n",
       "  </thead>\n",
       "  <tbody>\n",
       "    <tr>\n",
       "      <th>0</th>\n",
       "      <td>910000000002</td>\n",
       "      <td>SACHIN</td>\n",
       "      <td>b17a0f6d97440e3c165028155a4c88146eddc5af6f2486...</td>\n",
       "      <td>1</td>\n",
       "      <td>1799</td>\n",
       "      <td>0.00</td>\n",
       "      <td>1606.24</td>\n",
       "      <td>2023-01-01</td>\n",
       "      <td>DB Longboards CoreFlex Crossbow 41\" Bamboo Fib...</td>\n",
       "    </tr>\n",
       "    <tr>\n",
       "      <th>1</th>\n",
       "      <td>910000000009</td>\n",
       "      <td>SONI</td>\n",
       "      <td>303d15d1d6a8cdcfeabf012a3dba8803056ffb5fe929c5...</td>\n",
       "      <td>1</td>\n",
       "      <td>4999</td>\n",
       "      <td>1500.00</td>\n",
       "      <td>3124.14</td>\n",
       "      <td>2023-01-01</td>\n",
       "      <td>Electronic Snap Circuits Mini Kits Classpack, ...</td>\n",
       "    </tr>\n",
       "    <tr>\n",
       "      <th>2</th>\n",
       "      <td>910000000010</td>\n",
       "      <td>ASHOK</td>\n",
       "      <td>47b181961e0c1b8671a92e7622e046b3dc02e5682e8481...</td>\n",
       "      <td>1</td>\n",
       "      <td>1299</td>\n",
       "      <td>600.00</td>\n",
       "      <td>592.38</td>\n",
       "      <td>2023-01-01</td>\n",
       "      <td>3Doodler Create Flexy 3D Printing Filament Ref...</td>\n",
       "    </tr>\n",
       "    <tr>\n",
       "      <th>3</th>\n",
       "      <td>910000000022</td>\n",
       "      <td>BASKAR</td>\n",
       "      <td>f4605565e1d2b86b2202fb7970ff6536682c81cdfaca55...</td>\n",
       "      <td>1</td>\n",
       "      <td>2399</td>\n",
       "      <td>475.24</td>\n",
       "      <td>1717.64</td>\n",
       "      <td>2023-01-01</td>\n",
       "      <td>Guillow Airplane Design Studio with Travel Cas...</td>\n",
       "    </tr>\n",
       "    <tr>\n",
       "      <th>4</th>\n",
       "      <td>910000000052</td>\n",
       "      <td>KUMAR</td>\n",
       "      <td>3e16e857ba22cb217aa204569d9014ccf6224eb3253033...</td>\n",
       "      <td>1</td>\n",
       "      <td>2899</td>\n",
       "      <td>362.53</td>\n",
       "      <td>2264.71</td>\n",
       "      <td>2023-01-01</td>\n",
       "      <td>Woodstock- Collage 500 pc Puzzle</td>\n",
       "    </tr>\n",
       "  </tbody>\n",
       "</table>\n",
       "</div>"
      ],
      "text/plain": [
       "   party_cntct_nmbr party_full_nm  \\\n",
       "0      910000000002        SACHIN   \n",
       "1      910000000009          SONI   \n",
       "2      910000000010         ASHOK   \n",
       "3      910000000022        BASKAR   \n",
       "4      910000000052         KUMAR   \n",
       "\n",
       "                                         material_sk  itm_qty  \\\n",
       "0  b17a0f6d97440e3c165028155a4c88146eddc5af6f2486...        1   \n",
       "1  303d15d1d6a8cdcfeabf012a3dba8803056ffb5fe929c5...        1   \n",
       "2  47b181961e0c1b8671a92e7622e046b3dc02e5682e8481...        1   \n",
       "3  f4605565e1d2b86b2202fb7970ff6536682c81cdfaca55...        1   \n",
       "4  3e16e857ba22cb217aa204569d9014ccf6224eb3253033...        1   \n",
       "\n",
       "   unit_slng_prc_amt  dscnt_amt  net_sale_amt txn_strt_dt  \\\n",
       "0               1799       0.00       1606.24  2023-01-01   \n",
       "1               4999    1500.00       3124.14  2023-01-01   \n",
       "2               1299     600.00        592.38  2023-01-01   \n",
       "3               2399     475.24       1717.64  2023-01-01   \n",
       "4               2899     362.53       2264.71  2023-01-01   \n",
       "\n",
       "                                        Product Name  \n",
       "0  DB Longboards CoreFlex Crossbow 41\" Bamboo Fib...  \n",
       "1  Electronic Snap Circuits Mini Kits Classpack, ...  \n",
       "2  3Doodler Create Flexy 3D Printing Filament Ref...  \n",
       "3  Guillow Airplane Design Studio with Travel Cas...  \n",
       "4                   Woodstock- Collage 500 pc Puzzle  "
      ]
     },
     "execution_count": 7,
     "metadata": {},
     "output_type": "execute_result"
    }
   ],
   "source": [
    "df.head()"
   ]
  },
  {
   "cell_type": "code",
   "execution_count": 9,
   "id": "672dda4d",
   "metadata": {},
   "outputs": [
    {
     "data": {
      "text/plain": [
       "(2157, 9)"
      ]
     },
     "execution_count": 9,
     "metadata": {},
     "output_type": "execute_result"
    }
   ],
   "source": [
    "df.shape"
   ]
  },
  {
   "cell_type": "code",
   "execution_count": 10,
   "id": "36b1d64b",
   "metadata": {},
   "outputs": [
    {
     "name": "stdout",
     "output_type": "stream",
     "text": [
      "<class 'pandas.core.frame.DataFrame'>\n",
      "RangeIndex: 2157 entries, 0 to 2156\n",
      "Data columns (total 9 columns):\n",
      " #   Column             Non-Null Count  Dtype         \n",
      "---  ------             --------------  -----         \n",
      " 0   party_cntct_nmbr   2157 non-null   int64         \n",
      " 1   party_full_nm      2157 non-null   object        \n",
      " 2   material_sk        2157 non-null   object        \n",
      " 3   itm_qty            2157 non-null   int64         \n",
      " 4   unit_slng_prc_amt  2157 non-null   int64         \n",
      " 5   dscnt_amt          2157 non-null   float64       \n",
      " 6   net_sale_amt       2157 non-null   float64       \n",
      " 7   txn_strt_dt        2157 non-null   datetime64[ns]\n",
      " 8   Product Name       2157 non-null   object        \n",
      "dtypes: datetime64[ns](1), float64(2), int64(3), object(3)\n",
      "memory usage: 151.8+ KB\n"
     ]
    }
   ],
   "source": [
    "df.info()"
   ]
  },
  {
   "cell_type": "code",
   "execution_count": 11,
   "id": "13345053",
   "metadata": {},
   "outputs": [],
   "source": [
    "df1 = pd.read_csv(r\"F:\\data_science(omkar_sir_batch)\\Datasets\\amazon.csv\")"
   ]
  },
  {
   "cell_type": "code",
   "execution_count": 12,
   "id": "5da23df0",
   "metadata": {},
   "outputs": [],
   "source": [
    "df1 = df1[['Image']]"
   ]
  },
  {
   "cell_type": "code",
   "execution_count": 14,
   "id": "62e1e446",
   "metadata": {},
   "outputs": [],
   "source": [
    "df1 = df1[:2157]"
   ]
  },
  {
   "cell_type": "code",
   "execution_count": 15,
   "id": "f27ef318",
   "metadata": {},
   "outputs": [],
   "source": [
    "df = pd.concat([df,df1],axis=1)"
   ]
  },
  {
   "cell_type": "code",
   "execution_count": 17,
   "id": "a24afce4",
   "metadata": {},
   "outputs": [
    {
     "data": {
      "text/html": [
       "<div>\n",
       "<style scoped>\n",
       "    .dataframe tbody tr th:only-of-type {\n",
       "        vertical-align: middle;\n",
       "    }\n",
       "\n",
       "    .dataframe tbody tr th {\n",
       "        vertical-align: top;\n",
       "    }\n",
       "\n",
       "    .dataframe thead th {\n",
       "        text-align: right;\n",
       "    }\n",
       "</style>\n",
       "<table border=\"1\" class=\"dataframe\">\n",
       "  <thead>\n",
       "    <tr style=\"text-align: right;\">\n",
       "      <th></th>\n",
       "      <th>party_cntct_nmbr</th>\n",
       "      <th>party_full_nm</th>\n",
       "      <th>material_sk</th>\n",
       "      <th>itm_qty</th>\n",
       "      <th>unit_slng_prc_amt</th>\n",
       "      <th>dscnt_amt</th>\n",
       "      <th>net_sale_amt</th>\n",
       "      <th>txn_strt_dt</th>\n",
       "      <th>Product Name</th>\n",
       "      <th>Image</th>\n",
       "    </tr>\n",
       "  </thead>\n",
       "  <tbody>\n",
       "    <tr>\n",
       "      <th>0</th>\n",
       "      <td>910000000002</td>\n",
       "      <td>SACHIN</td>\n",
       "      <td>b17a0f6d97440e3c165028155a4c88146eddc5af6f2486...</td>\n",
       "      <td>1</td>\n",
       "      <td>1799</td>\n",
       "      <td>0.00</td>\n",
       "      <td>1606.24</td>\n",
       "      <td>2023-01-01</td>\n",
       "      <td>DB Longboards CoreFlex Crossbow 41\" Bamboo Fib...</td>\n",
       "      <td>https://images-na.ssl-images-amazon.com/images...</td>\n",
       "    </tr>\n",
       "    <tr>\n",
       "      <th>1</th>\n",
       "      <td>910000000009</td>\n",
       "      <td>SONI</td>\n",
       "      <td>303d15d1d6a8cdcfeabf012a3dba8803056ffb5fe929c5...</td>\n",
       "      <td>1</td>\n",
       "      <td>4999</td>\n",
       "      <td>1500.00</td>\n",
       "      <td>3124.14</td>\n",
       "      <td>2023-01-01</td>\n",
       "      <td>Electronic Snap Circuits Mini Kits Classpack, ...</td>\n",
       "      <td>https://images-na.ssl-images-amazon.com/images...</td>\n",
       "    </tr>\n",
       "    <tr>\n",
       "      <th>2</th>\n",
       "      <td>910000000010</td>\n",
       "      <td>ASHOK</td>\n",
       "      <td>47b181961e0c1b8671a92e7622e046b3dc02e5682e8481...</td>\n",
       "      <td>1</td>\n",
       "      <td>1299</td>\n",
       "      <td>600.00</td>\n",
       "      <td>592.38</td>\n",
       "      <td>2023-01-01</td>\n",
       "      <td>3Doodler Create Flexy 3D Printing Filament Ref...</td>\n",
       "      <td>https://images-na.ssl-images-amazon.com/images...</td>\n",
       "    </tr>\n",
       "    <tr>\n",
       "      <th>3</th>\n",
       "      <td>910000000022</td>\n",
       "      <td>BASKAR</td>\n",
       "      <td>f4605565e1d2b86b2202fb7970ff6536682c81cdfaca55...</td>\n",
       "      <td>1</td>\n",
       "      <td>2399</td>\n",
       "      <td>475.24</td>\n",
       "      <td>1717.64</td>\n",
       "      <td>2023-01-01</td>\n",
       "      <td>Guillow Airplane Design Studio with Travel Cas...</td>\n",
       "      <td>https://images-na.ssl-images-amazon.com/images...</td>\n",
       "    </tr>\n",
       "    <tr>\n",
       "      <th>4</th>\n",
       "      <td>910000000052</td>\n",
       "      <td>KUMAR</td>\n",
       "      <td>3e16e857ba22cb217aa204569d9014ccf6224eb3253033...</td>\n",
       "      <td>1</td>\n",
       "      <td>2899</td>\n",
       "      <td>362.53</td>\n",
       "      <td>2264.71</td>\n",
       "      <td>2023-01-01</td>\n",
       "      <td>Woodstock- Collage 500 pc Puzzle</td>\n",
       "      <td>https://images-na.ssl-images-amazon.com/images...</td>\n",
       "    </tr>\n",
       "  </tbody>\n",
       "</table>\n",
       "</div>"
      ],
      "text/plain": [
       "   party_cntct_nmbr party_full_nm  \\\n",
       "0      910000000002        SACHIN   \n",
       "1      910000000009          SONI   \n",
       "2      910000000010         ASHOK   \n",
       "3      910000000022        BASKAR   \n",
       "4      910000000052         KUMAR   \n",
       "\n",
       "                                         material_sk  itm_qty  \\\n",
       "0  b17a0f6d97440e3c165028155a4c88146eddc5af6f2486...        1   \n",
       "1  303d15d1d6a8cdcfeabf012a3dba8803056ffb5fe929c5...        1   \n",
       "2  47b181961e0c1b8671a92e7622e046b3dc02e5682e8481...        1   \n",
       "3  f4605565e1d2b86b2202fb7970ff6536682c81cdfaca55...        1   \n",
       "4  3e16e857ba22cb217aa204569d9014ccf6224eb3253033...        1   \n",
       "\n",
       "   unit_slng_prc_amt  dscnt_amt  net_sale_amt txn_strt_dt  \\\n",
       "0               1799       0.00       1606.24  2023-01-01   \n",
       "1               4999    1500.00       3124.14  2023-01-01   \n",
       "2               1299     600.00        592.38  2023-01-01   \n",
       "3               2399     475.24       1717.64  2023-01-01   \n",
       "4               2899     362.53       2264.71  2023-01-01   \n",
       "\n",
       "                                        Product Name  \\\n",
       "0  DB Longboards CoreFlex Crossbow 41\" Bamboo Fib...   \n",
       "1  Electronic Snap Circuits Mini Kits Classpack, ...   \n",
       "2  3Doodler Create Flexy 3D Printing Filament Ref...   \n",
       "3  Guillow Airplane Design Studio with Travel Cas...   \n",
       "4                   Woodstock- Collage 500 pc Puzzle   \n",
       "\n",
       "                                               Image  \n",
       "0  https://images-na.ssl-images-amazon.com/images...  \n",
       "1  https://images-na.ssl-images-amazon.com/images...  \n",
       "2  https://images-na.ssl-images-amazon.com/images...  \n",
       "3  https://images-na.ssl-images-amazon.com/images...  \n",
       "4  https://images-na.ssl-images-amazon.com/images...  "
      ]
     },
     "execution_count": 17,
     "metadata": {},
     "output_type": "execute_result"
    }
   ],
   "source": [
    "df.head()"
   ]
  },
  {
   "cell_type": "code",
   "execution_count": 18,
   "id": "a7ea6cef",
   "metadata": {},
   "outputs": [],
   "source": [
    "import nltk\n",
    "from nltk.corpus import stopwords"
   ]
  },
  {
   "cell_type": "code",
   "execution_count": 67,
   "id": "78f81148",
   "metadata": {},
   "outputs": [],
   "source": [
    "from nltk.stem import PorterStemmer,WordNetLemmatizer\n",
    "from nltk.tokenize import word_tokenize\n",
    "from sklearn.feature_extraction.text import CountVectorizer,TfidfVectorizer"
   ]
  },
  {
   "cell_type": "code",
   "execution_count": 91,
   "id": "fac97082",
   "metadata": {},
   "outputs": [],
   "source": [
    "ps = WordNetLemmatizer()\n",
    "tfidf_model = TfidfVectorizer()"
   ]
  },
  {
   "cell_type": "code",
   "execution_count": 70,
   "id": "854f6f91",
   "metadata": {},
   "outputs": [],
   "source": [
    "new_df = df[['Product Name','Image']]"
   ]
  },
  {
   "cell_type": "code",
   "execution_count": 71,
   "id": "e2141db9",
   "metadata": {},
   "outputs": [
    {
     "name": "stdout",
     "output_type": "stream",
     "text": [
      "<class 'pandas.core.frame.DataFrame'>\n",
      "RangeIndex: 2157 entries, 0 to 2156\n",
      "Data columns (total 2 columns):\n",
      " #   Column        Non-Null Count  Dtype \n",
      "---  ------        --------------  ----- \n",
      " 0   Product Name  2157 non-null   object\n",
      " 1   Image         2157 non-null   object\n",
      "dtypes: object(2)\n",
      "memory usage: 33.8+ KB\n"
     ]
    }
   ],
   "source": [
    "new_df.info()"
   ]
  },
  {
   "cell_type": "code",
   "execution_count": 72,
   "id": "e39c3622",
   "metadata": {},
   "outputs": [
    {
     "data": {
      "text/html": [
       "<div>\n",
       "<style scoped>\n",
       "    .dataframe tbody tr th:only-of-type {\n",
       "        vertical-align: middle;\n",
       "    }\n",
       "\n",
       "    .dataframe tbody tr th {\n",
       "        vertical-align: top;\n",
       "    }\n",
       "\n",
       "    .dataframe thead th {\n",
       "        text-align: right;\n",
       "    }\n",
       "</style>\n",
       "<table border=\"1\" class=\"dataframe\">\n",
       "  <thead>\n",
       "    <tr style=\"text-align: right;\">\n",
       "      <th></th>\n",
       "      <th>Product Name</th>\n",
       "      <th>Image</th>\n",
       "    </tr>\n",
       "  </thead>\n",
       "  <tbody>\n",
       "    <tr>\n",
       "      <th>0</th>\n",
       "      <td>DB Longboards CoreFlex Crossbow 41\" Bamboo Fib...</td>\n",
       "      <td>https://images-na.ssl-images-amazon.com/images...</td>\n",
       "    </tr>\n",
       "    <tr>\n",
       "      <th>1</th>\n",
       "      <td>Electronic Snap Circuits Mini Kits Classpack, ...</td>\n",
       "      <td>https://images-na.ssl-images-amazon.com/images...</td>\n",
       "    </tr>\n",
       "    <tr>\n",
       "      <th>2</th>\n",
       "      <td>3Doodler Create Flexy 3D Printing Filament Ref...</td>\n",
       "      <td>https://images-na.ssl-images-amazon.com/images...</td>\n",
       "    </tr>\n",
       "    <tr>\n",
       "      <th>3</th>\n",
       "      <td>Guillow Airplane Design Studio with Travel Cas...</td>\n",
       "      <td>https://images-na.ssl-images-amazon.com/images...</td>\n",
       "    </tr>\n",
       "    <tr>\n",
       "      <th>4</th>\n",
       "      <td>Woodstock- Collage 500 pc Puzzle</td>\n",
       "      <td>https://images-na.ssl-images-amazon.com/images...</td>\n",
       "    </tr>\n",
       "  </tbody>\n",
       "</table>\n",
       "</div>"
      ],
      "text/plain": [
       "                                        Product Name  \\\n",
       "0  DB Longboards CoreFlex Crossbow 41\" Bamboo Fib...   \n",
       "1  Electronic Snap Circuits Mini Kits Classpack, ...   \n",
       "2  3Doodler Create Flexy 3D Printing Filament Ref...   \n",
       "3  Guillow Airplane Design Studio with Travel Cas...   \n",
       "4                   Woodstock- Collage 500 pc Puzzle   \n",
       "\n",
       "                                               Image  \n",
       "0  https://images-na.ssl-images-amazon.com/images...  \n",
       "1  https://images-na.ssl-images-amazon.com/images...  \n",
       "2  https://images-na.ssl-images-amazon.com/images...  \n",
       "3  https://images-na.ssl-images-amazon.com/images...  \n",
       "4  https://images-na.ssl-images-amazon.com/images...  "
      ]
     },
     "execution_count": 72,
     "metadata": {},
     "output_type": "execute_result"
    }
   ],
   "source": [
    "new_df.head()"
   ]
  },
  {
   "cell_type": "code",
   "execution_count": 73,
   "id": "f3cfbe9b",
   "metadata": {},
   "outputs": [],
   "source": [
    "import re"
   ]
  },
  {
   "cell_type": "code",
   "execution_count": 74,
   "id": "5fcabecc",
   "metadata": {},
   "outputs": [],
   "source": [
    "new_df['Product Name'] = new_df['Product Name'].apply(lambda x : re.sub('[^A-Za-z0-9]',' ',x))"
   ]
  },
  {
   "cell_type": "code",
   "execution_count": 75,
   "id": "2451ba43",
   "metadata": {},
   "outputs": [
    {
     "data": {
      "text/html": [
       "<div>\n",
       "<style scoped>\n",
       "    .dataframe tbody tr th:only-of-type {\n",
       "        vertical-align: middle;\n",
       "    }\n",
       "\n",
       "    .dataframe tbody tr th {\n",
       "        vertical-align: top;\n",
       "    }\n",
       "\n",
       "    .dataframe thead th {\n",
       "        text-align: right;\n",
       "    }\n",
       "</style>\n",
       "<table border=\"1\" class=\"dataframe\">\n",
       "  <thead>\n",
       "    <tr style=\"text-align: right;\">\n",
       "      <th></th>\n",
       "      <th>Product Name</th>\n",
       "      <th>Image</th>\n",
       "    </tr>\n",
       "  </thead>\n",
       "  <tbody>\n",
       "    <tr>\n",
       "      <th>0</th>\n",
       "      <td>DB Longboards CoreFlex Crossbow 41  Bamboo Fib...</td>\n",
       "      <td>https://images-na.ssl-images-amazon.com/images...</td>\n",
       "    </tr>\n",
       "    <tr>\n",
       "      <th>1</th>\n",
       "      <td>Electronic Snap Circuits Mini Kits Classpack  ...</td>\n",
       "      <td>https://images-na.ssl-images-amazon.com/images...</td>\n",
       "    </tr>\n",
       "    <tr>\n",
       "      <th>2</th>\n",
       "      <td>3Doodler Create Flexy 3D Printing Filament Ref...</td>\n",
       "      <td>https://images-na.ssl-images-amazon.com/images...</td>\n",
       "    </tr>\n",
       "    <tr>\n",
       "      <th>3</th>\n",
       "      <td>Guillow Airplane Design Studio with Travel Cas...</td>\n",
       "      <td>https://images-na.ssl-images-amazon.com/images...</td>\n",
       "    </tr>\n",
       "    <tr>\n",
       "      <th>4</th>\n",
       "      <td>Woodstock  Collage 500 pc Puzzle</td>\n",
       "      <td>https://images-na.ssl-images-amazon.com/images...</td>\n",
       "    </tr>\n",
       "  </tbody>\n",
       "</table>\n",
       "</div>"
      ],
      "text/plain": [
       "                                        Product Name  \\\n",
       "0  DB Longboards CoreFlex Crossbow 41  Bamboo Fib...   \n",
       "1  Electronic Snap Circuits Mini Kits Classpack  ...   \n",
       "2  3Doodler Create Flexy 3D Printing Filament Ref...   \n",
       "3  Guillow Airplane Design Studio with Travel Cas...   \n",
       "4                   Woodstock  Collage 500 pc Puzzle   \n",
       "\n",
       "                                               Image  \n",
       "0  https://images-na.ssl-images-amazon.com/images...  \n",
       "1  https://images-na.ssl-images-amazon.com/images...  \n",
       "2  https://images-na.ssl-images-amazon.com/images...  \n",
       "3  https://images-na.ssl-images-amazon.com/images...  \n",
       "4  https://images-na.ssl-images-amazon.com/images...  "
      ]
     },
     "execution_count": 75,
     "metadata": {},
     "output_type": "execute_result"
    }
   ],
   "source": [
    "new_df.head()"
   ]
  },
  {
   "cell_type": "code",
   "execution_count": 76,
   "id": "a1d060d9",
   "metadata": {},
   "outputs": [
    {
     "data": {
      "text/plain": [
       "['hello', 'everyone', 'welcome', 'to', 'data', 'science', 'class']"
      ]
     },
     "execution_count": 76,
     "metadata": {},
     "output_type": "execute_result"
    }
   ],
   "source": [
    "word_tokenize(\"hello everyone welcome to data science class\")"
   ]
  },
  {
   "cell_type": "code",
   "execution_count": 77,
   "id": "f94cbb79",
   "metadata": {},
   "outputs": [],
   "source": [
    "def preprocess(data):\n",
    "    data = data.lower()\n",
    "    data = word_tokenize(data)\n",
    "    data = [ps.lemmatize(word) for word in data if word not in stopwords.words('english')]\n",
    "    return ' '.join(data)"
   ]
  },
  {
   "cell_type": "code",
   "execution_count": 78,
   "id": "c59e3439",
   "metadata": {},
   "outputs": [
    {
     "name": "stderr",
     "output_type": "stream",
     "text": [
      "[nltk_data] Downloading package stopwords to\n",
      "[nltk_data]     C:\\Users\\ROBERT\\AppData\\Roaming\\nltk_data...\n",
      "[nltk_data]   Package stopwords is already up-to-date!\n"
     ]
    },
    {
     "data": {
      "text/plain": [
       "True"
      ]
     },
     "execution_count": 78,
     "metadata": {},
     "output_type": "execute_result"
    }
   ],
   "source": [
    "nltk.download('stopwords')"
   ]
  },
  {
   "cell_type": "code",
   "execution_count": 79,
   "id": "dc1f8015",
   "metadata": {},
   "outputs": [],
   "source": [
    "new_df['Product Name'] = new_df['Product Name'].apply(preprocess)"
   ]
  },
  {
   "cell_type": "code",
   "execution_count": 80,
   "id": "515d28cd",
   "metadata": {},
   "outputs": [
    {
     "data": {
      "text/html": [
       "<div>\n",
       "<style scoped>\n",
       "    .dataframe tbody tr th:only-of-type {\n",
       "        vertical-align: middle;\n",
       "    }\n",
       "\n",
       "    .dataframe tbody tr th {\n",
       "        vertical-align: top;\n",
       "    }\n",
       "\n",
       "    .dataframe thead th {\n",
       "        text-align: right;\n",
       "    }\n",
       "</style>\n",
       "<table border=\"1\" class=\"dataframe\">\n",
       "  <thead>\n",
       "    <tr style=\"text-align: right;\">\n",
       "      <th></th>\n",
       "      <th>Product Name</th>\n",
       "      <th>Image</th>\n",
       "    </tr>\n",
       "  </thead>\n",
       "  <tbody>\n",
       "    <tr>\n",
       "      <th>0</th>\n",
       "      <td>db longboards coreflex crossbow 41 bamboo fibe...</td>\n",
       "      <td>https://images-na.ssl-images-amazon.com/images...</td>\n",
       "    </tr>\n",
       "    <tr>\n",
       "      <th>1</th>\n",
       "      <td>electronic snap circuit mini kit classpack fm ...</td>\n",
       "      <td>https://images-na.ssl-images-amazon.com/images...</td>\n",
       "    </tr>\n",
       "    <tr>\n",
       "      <th>2</th>\n",
       "      <td>3doodler create flexy 3d printing filament ref...</td>\n",
       "      <td>https://images-na.ssl-images-amazon.com/images...</td>\n",
       "    </tr>\n",
       "    <tr>\n",
       "      <th>3</th>\n",
       "      <td>guillow airplane design studio travel case bui...</td>\n",
       "      <td>https://images-na.ssl-images-amazon.com/images...</td>\n",
       "    </tr>\n",
       "    <tr>\n",
       "      <th>4</th>\n",
       "      <td>woodstock collage 500 pc puzzle</td>\n",
       "      <td>https://images-na.ssl-images-amazon.com/images...</td>\n",
       "    </tr>\n",
       "  </tbody>\n",
       "</table>\n",
       "</div>"
      ],
      "text/plain": [
       "                                        Product Name  \\\n",
       "0  db longboards coreflex crossbow 41 bamboo fibe...   \n",
       "1  electronic snap circuit mini kit classpack fm ...   \n",
       "2  3doodler create flexy 3d printing filament ref...   \n",
       "3  guillow airplane design studio travel case bui...   \n",
       "4                    woodstock collage 500 pc puzzle   \n",
       "\n",
       "                                               Image  \n",
       "0  https://images-na.ssl-images-amazon.com/images...  \n",
       "1  https://images-na.ssl-images-amazon.com/images...  \n",
       "2  https://images-na.ssl-images-amazon.com/images...  \n",
       "3  https://images-na.ssl-images-amazon.com/images...  \n",
       "4  https://images-na.ssl-images-amazon.com/images...  "
      ]
     },
     "execution_count": 80,
     "metadata": {},
     "output_type": "execute_result"
    }
   ],
   "source": [
    "new_df.head()"
   ]
  },
  {
   "cell_type": "code",
   "execution_count": 92,
   "id": "3699e495",
   "metadata": {},
   "outputs": [],
   "source": [
    "vectors = tfidf_model.fit_transform(df['Product Name']).toarray()"
   ]
  },
  {
   "cell_type": "code",
   "execution_count": 93,
   "id": "521b0b26",
   "metadata": {},
   "outputs": [
    {
     "data": {
      "text/plain": [
       "array(['00', '000', '0004', ..., 'zygomatic', 'â½', 'œair'], dtype=object)"
      ]
     },
     "execution_count": 93,
     "metadata": {},
     "output_type": "execute_result"
    }
   ],
   "source": [
    "tfidf_model.get_feature_names_out()"
   ]
  },
  {
   "cell_type": "code",
   "execution_count": 94,
   "id": "92190445",
   "metadata": {},
   "outputs": [
    {
     "data": {
      "text/plain": [
       "array([[0., 0., 0., ..., 0., 0., 0.],\n",
       "       [0., 0., 0., ..., 0., 0., 0.],\n",
       "       [0., 0., 0., ..., 0., 0., 0.],\n",
       "       ...,\n",
       "       [0., 0., 0., ..., 0., 0., 0.],\n",
       "       [0., 0., 0., ..., 0., 0., 0.],\n",
       "       [0., 0., 0., ..., 0., 0., 0.]])"
      ]
     },
     "execution_count": 94,
     "metadata": {},
     "output_type": "execute_result"
    }
   ],
   "source": [
    "vectors"
   ]
  },
  {
   "cell_type": "code",
   "execution_count": 95,
   "id": "c4e38321",
   "metadata": {},
   "outputs": [],
   "source": [
    "from sklearn.metrics.pairwise import cosine_similarity"
   ]
  },
  {
   "cell_type": "code",
   "execution_count": 96,
   "id": "d75d696f",
   "metadata": {},
   "outputs": [],
   "source": [
    "similarity = cosine_similarity(vectors)"
   ]
  },
  {
   "cell_type": "code",
   "execution_count": 97,
   "id": "aed8f27d",
   "metadata": {},
   "outputs": [
    {
     "data": {
      "text/plain": [
       "2157"
      ]
     },
     "execution_count": 97,
     "metadata": {},
     "output_type": "execute_result"
    }
   ],
   "source": [
    "len(similarity )"
   ]
  },
  {
   "cell_type": "code",
   "execution_count": 98,
   "id": "1e4a533a",
   "metadata": {},
   "outputs": [
    {
     "data": {
      "text/plain": [
       "array([1., 0., 0., ..., 0., 0., 0.])"
      ]
     },
     "execution_count": 98,
     "metadata": {},
     "output_type": "execute_result"
    }
   ],
   "source": [
    "similarity[0]"
   ]
  },
  {
   "cell_type": "code",
   "execution_count": 99,
   "id": "c17af59c",
   "metadata": {},
   "outputs": [
    {
     "data": {
      "text/html": [
       "<div>\n",
       "<style scoped>\n",
       "    .dataframe tbody tr th:only-of-type {\n",
       "        vertical-align: middle;\n",
       "    }\n",
       "\n",
       "    .dataframe tbody tr th {\n",
       "        vertical-align: top;\n",
       "    }\n",
       "\n",
       "    .dataframe thead th {\n",
       "        text-align: right;\n",
       "    }\n",
       "</style>\n",
       "<table border=\"1\" class=\"dataframe\">\n",
       "  <thead>\n",
       "    <tr style=\"text-align: right;\">\n",
       "      <th></th>\n",
       "      <th>Product Name</th>\n",
       "      <th>Image</th>\n",
       "    </tr>\n",
       "  </thead>\n",
       "  <tbody>\n",
       "    <tr>\n",
       "      <th>0</th>\n",
       "      <td>db longboards coreflex crossbow 41 bamboo fibe...</td>\n",
       "      <td>https://images-na.ssl-images-amazon.com/images...</td>\n",
       "    </tr>\n",
       "    <tr>\n",
       "      <th>1</th>\n",
       "      <td>electronic snap circuit mini kit classpack fm ...</td>\n",
       "      <td>https://images-na.ssl-images-amazon.com/images...</td>\n",
       "    </tr>\n",
       "    <tr>\n",
       "      <th>2</th>\n",
       "      <td>3doodler create flexy 3d printing filament ref...</td>\n",
       "      <td>https://images-na.ssl-images-amazon.com/images...</td>\n",
       "    </tr>\n",
       "    <tr>\n",
       "      <th>3</th>\n",
       "      <td>guillow airplane design studio travel case bui...</td>\n",
       "      <td>https://images-na.ssl-images-amazon.com/images...</td>\n",
       "    </tr>\n",
       "    <tr>\n",
       "      <th>4</th>\n",
       "      <td>woodstock collage 500 pc puzzle</td>\n",
       "      <td>https://images-na.ssl-images-amazon.com/images...</td>\n",
       "    </tr>\n",
       "    <tr>\n",
       "      <th>...</th>\n",
       "      <td>...</td>\n",
       "      <td>...</td>\n",
       "    </tr>\n",
       "    <tr>\n",
       "      <th>2152</th>\n",
       "      <td>inflatable mallet costume one size</td>\n",
       "      <td>https://images-na.ssl-images-amazon.com/images...</td>\n",
       "    </tr>\n",
       "    <tr>\n",
       "      <th>2153</th>\n",
       "      <td>trend international fallout nuka cola 4 color ...</td>\n",
       "      <td>https://images-na.ssl-images-amazon.com/images...</td>\n",
       "    </tr>\n",
       "    <tr>\n",
       "      <th>2154</th>\n",
       "      <td>pokemon tcg hidden fate premium power collecti...</td>\n",
       "      <td>https://images-na.ssl-images-amazon.com/images...</td>\n",
       "    </tr>\n",
       "    <tr>\n",
       "      <th>2155</th>\n",
       "      <td>partypongtables com 8 foot beer pong table w o...</td>\n",
       "      <td>https://images-na.ssl-images-amazon.com/images...</td>\n",
       "    </tr>\n",
       "    <tr>\n",
       "      <th>2156</th>\n",
       "      <td>planet bike superflash stealth bike tail light</td>\n",
       "      <td>https://images-na.ssl-images-amazon.com/images...</td>\n",
       "    </tr>\n",
       "  </tbody>\n",
       "</table>\n",
       "<p>2157 rows × 2 columns</p>\n",
       "</div>"
      ],
      "text/plain": [
       "                                           Product Name  \\\n",
       "0     db longboards coreflex crossbow 41 bamboo fibe...   \n",
       "1     electronic snap circuit mini kit classpack fm ...   \n",
       "2     3doodler create flexy 3d printing filament ref...   \n",
       "3     guillow airplane design studio travel case bui...   \n",
       "4                       woodstock collage 500 pc puzzle   \n",
       "...                                                 ...   \n",
       "2152                 inflatable mallet costume one size   \n",
       "2153  trend international fallout nuka cola 4 color ...   \n",
       "2154  pokemon tcg hidden fate premium power collecti...   \n",
       "2155  partypongtables com 8 foot beer pong table w o...   \n",
       "2156     planet bike superflash stealth bike tail light   \n",
       "\n",
       "                                                  Image  \n",
       "0     https://images-na.ssl-images-amazon.com/images...  \n",
       "1     https://images-na.ssl-images-amazon.com/images...  \n",
       "2     https://images-na.ssl-images-amazon.com/images...  \n",
       "3     https://images-na.ssl-images-amazon.com/images...  \n",
       "4     https://images-na.ssl-images-amazon.com/images...  \n",
       "...                                                 ...  \n",
       "2152  https://images-na.ssl-images-amazon.com/images...  \n",
       "2153  https://images-na.ssl-images-amazon.com/images...  \n",
       "2154  https://images-na.ssl-images-amazon.com/images...  \n",
       "2155  https://images-na.ssl-images-amazon.com/images...  \n",
       "2156  https://images-na.ssl-images-amazon.com/images...  \n",
       "\n",
       "[2157 rows x 2 columns]"
      ]
     },
     "execution_count": 99,
     "metadata": {},
     "output_type": "execute_result"
    }
   ],
   "source": [
    "new_df"
   ]
  },
  {
   "cell_type": "code",
   "execution_count": 100,
   "id": "48fe4203",
   "metadata": {},
   "outputs": [],
   "source": [
    "import pickle"
   ]
  },
  {
   "cell_type": "code",
   "execution_count": 101,
   "id": "0fb4f7d8",
   "metadata": {},
   "outputs": [],
   "source": [
    "with open('similarity.pkl','wb') as file:\n",
    "    pickle.dump(similarity,file)"
   ]
  },
  {
   "cell_type": "code",
   "execution_count": 102,
   "id": "6049fdbc",
   "metadata": {},
   "outputs": [
    {
     "data": {
      "text/plain": [
       "[(1012, 0.16037210426971382),\n",
       " (1055, 0.1313153192755983),\n",
       " (950, 0.10115249202577588),\n",
       " (796, 0.09820654333913494),\n",
       " (724, 0.09696516464729206)]"
      ]
     },
     "execution_count": 102,
     "metadata": {},
     "output_type": "execute_result"
    }
   ],
   "source": [
    "sorted(list(enumerate(similarity[2155])),reverse=True,key = lambda x : x[1])[1:6]"
   ]
  },
  {
   "cell_type": "code",
   "execution_count": 103,
   "id": "a2bbc2b0",
   "metadata": {},
   "outputs": [
    {
     "data": {
      "text/plain": [
       "'crayola kid wooden easel dry erase board chalkboard amazon exclusive kid toy gift age 4 5 6 7'"
      ]
     },
     "execution_count": 103,
     "metadata": {},
     "output_type": "execute_result"
    }
   ],
   "source": [
    "new_df.loc[(new_df.index == 1012)]['Product Name'].values[0]"
   ]
  },
  {
   "cell_type": "code",
   "execution_count": 104,
   "id": "78c75f55",
   "metadata": {},
   "outputs": [],
   "source": [
    "def get_recom(data):\n",
    "    list1 = []\n",
    "    top_recom = sorted(list(enumerate(similarity[data])),reverse=True,key = lambda x : x[1])[1:6]\n",
    "    for index,score in top_recom:\n",
    "        product_name = new_df.loc[(new_df.index == index)]['Product Name'].values[0]\n",
    "        print(product_name)"
   ]
  },
  {
   "cell_type": "code",
   "execution_count": 105,
   "id": "365ba611",
   "metadata": {},
   "outputs": [
    {
     "name": "stdout",
     "output_type": "stream",
     "text": [
      "crayola kid wooden easel dry erase board chalkboard amazon exclusive kid toy gift age 4 5 6 7\n",
      "super finger flashlight 3 led light fiber optic attachment set 8\n",
      "traxxas alias led light bar\n",
      "board game beer shirt gamer drinker\n",
      "little foot tpt purple thang\n"
     ]
    }
   ],
   "source": [
    "get_recom(2155)"
   ]
  },
  {
   "cell_type": "code",
   "execution_count": 106,
   "id": "021eb1aa",
   "metadata": {},
   "outputs": [],
   "source": [
    "new_df.to_csv('new_df_recom.csv',index=False)"
   ]
  },
  {
   "cell_type": "code",
   "execution_count": 107,
   "id": "741dfcfc",
   "metadata": {},
   "outputs": [
    {
     "data": {
      "text/plain": [
       "'F:\\\\data_science(omkar_sir_batch)\\\\python'"
      ]
     },
     "execution_count": 107,
     "metadata": {},
     "output_type": "execute_result"
    }
   ],
   "source": [
    "#import os\n",
    "#os.getcwd()  ###It is used to find the location of file "
   ]
  },
  {
   "cell_type": "code",
   "execution_count": null,
   "id": "56f72404",
   "metadata": {},
   "outputs": [],
   "source": []
  }
 ],
 "metadata": {
  "kernelspec": {
   "display_name": "Python 3 (ipykernel)",
   "language": "python",
   "name": "python3"
  },
  "language_info": {
   "codemirror_mode": {
    "name": "ipython",
    "version": 3
   },
   "file_extension": ".py",
   "mimetype": "text/x-python",
   "name": "python",
   "nbconvert_exporter": "python",
   "pygments_lexer": "ipython3",
   "version": "3.9.6"
  }
 },
 "nbformat": 4,
 "nbformat_minor": 5
}
